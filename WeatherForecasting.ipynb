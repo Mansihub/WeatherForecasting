{
  "nbformat": 4,
  "nbformat_minor": 0,
  "metadata": {
    "colab": {
      "name": "WeatherForecasting.ipynb",
      "provenance": [],
      "authorship_tag": "ABX9TyMVUHtP3TvefH5U877Q+H85",
      "include_colab_link": true
    },
    "kernelspec": {
      "name": "python3",
      "display_name": "Python 3"
    },
    "language_info": {
      "name": "python"
    }
  },
  "cells": [
    {
      "cell_type": "markdown",
      "metadata": {
        "id": "view-in-github",
        "colab_type": "text"
      },
      "source": [
        "<a href=\"https://colab.research.google.com/github/Mansihub/WeatherForecasting/blob/main/WeatherForecasting.ipynb\" target=\"_parent\"><img src=\"https://colab.research.google.com/assets/colab-badge.svg\" alt=\"Open In Colab\"/></a>"
      ]
    },
    {
      "cell_type": "code",
      "metadata": {
        "colab": {
          "base_uri": "https://localhost:8080/"
        },
        "id": "zw8UCi6BCnQQ",
        "outputId": "baf9b2b2-2d5f-4b9f-fe37-2a3aacf8f959"
      },
      "source": [
        "# Importing requests since requests allows you to send HTTP/1.1 requests extremely easily. There’s no need to manually add query strings to your URLs, or to form-encode your PUT & POST data — but nowadays, just use the json method!\n",
        "\n",
        "import requests\n",
        "import os\n",
        "from datetime import datetime\n",
        "\n",
        "# Here we are using API so we are using API of  \"https://openweathermap.org/\" this is done by creating an API id. \n",
        "user_api = 'c2eb30e09a0f489560b022cbf61ea3d0'\n",
        "\n",
        "#location is to be entered so input.\n",
        "location = input(\"Enter the city name: \")\n",
        "\n",
        "complete_api_link = \"https://api.openweathermap.org/data/2.5/weather?q=%s&appid=%s\"%(location, user_api)\n",
        "api_link = requests.get(complete_api_link)\n",
        "api_data = api_link.json()\n",
        "\n",
        "#create variables to store and display data\n",
        "#temp_city for temperature of city, weather_desc for small description of weather, hmdt for humidity, wind_spd for wind speed\n",
        "#date_time for last time its updated so recent details by that time and date\n",
        "\n",
        "temp_city = ((api_data['main']['temp']) - 273.15)\n",
        "weather_desc = api_data['weather'][0]['description']\n",
        "hmdt = api_data['main']['humidity']\n",
        "wind_spd = api_data['wind']['speed']\n",
        "date_time = datetime.now().strftime(\"%d %b %Y | %I:%M:%S %p\")\n",
        " \n",
        "#Now for result print command\n",
        "\n",
        "print (\"-------------------------------------------------------------\")\n",
        "print (\"Weather Stats for - {}  || {}\".format(location.upper(), date_time))\n",
        "print (\"-------------------------------------------------------------\")\n",
        "\n",
        "print (\"Current temperature is: {:.2f} deg C\".format(temp_city))\n",
        "print (\"Current weather desc  :\",weather_desc)\n",
        "print (\"Current Humidity      :\",hmdt, '%')\n",
        "print (\"Current wind speed    :\",wind_spd ,'kmph')"
      ],
      "execution_count": null,
      "outputs": [
        {
          "output_type": "stream",
          "name": "stdout",
          "text": [
            "Enter the city name: Jaipur\n",
            "-------------------------------------------------------------\n",
            "Weather Stats for - JAIPUR  || 02 Oct 2021 | 05:30:46 PM\n",
            "-------------------------------------------------------------\n",
            "Current temperature is: 24.62 deg C\n",
            "Current weather desc  : mist\n",
            "Current Humidity      : 83 %\n",
            "Current wind speed    : 1.03 kmph\n"
          ]
        }
      ]
    }
  ]
}